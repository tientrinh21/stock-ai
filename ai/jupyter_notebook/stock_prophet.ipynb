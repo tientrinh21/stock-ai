{
 "cells": [
  {
   "cell_type": "code",
   "execution_count": 31,
   "metadata": {},
   "outputs": [],
   "source": [
    "import yfinance as yf"
   ]
  },
  {
   "cell_type": "code",
   "execution_count": 32,
   "metadata": {},
   "outputs": [
    {
     "name": "stderr",
     "output_type": "stream",
     "text": [
      "[*********************100%***********************]  1 of 1 completed\n"
     ]
    },
    {
     "data": {
      "text/html": [
       "<div>\n",
       "<style scoped>\n",
       "    .dataframe tbody tr th:only-of-type {\n",
       "        vertical-align: middle;\n",
       "    }\n",
       "\n",
       "    .dataframe tbody tr th {\n",
       "        vertical-align: top;\n",
       "    }\n",
       "\n",
       "    .dataframe thead th {\n",
       "        text-align: right;\n",
       "    }\n",
       "</style>\n",
       "<table border=\"1\" class=\"dataframe\">\n",
       "  <thead>\n",
       "    <tr style=\"text-align: right;\">\n",
       "      <th></th>\n",
       "      <th>Open</th>\n",
       "      <th>High</th>\n",
       "      <th>Low</th>\n",
       "      <th>Close</th>\n",
       "      <th>Adj Close</th>\n",
       "      <th>Volume</th>\n",
       "    </tr>\n",
       "    <tr>\n",
       "      <th>Date</th>\n",
       "      <th></th>\n",
       "      <th></th>\n",
       "      <th></th>\n",
       "      <th></th>\n",
       "      <th></th>\n",
       "      <th></th>\n",
       "    </tr>\n",
       "  </thead>\n",
       "  <tbody>\n",
       "    <tr>\n",
       "      <th>2010-01-04</th>\n",
       "      <td>20.790001</td>\n",
       "      <td>21.030001</td>\n",
       "      <td>20.730000</td>\n",
       "      <td>20.879999</td>\n",
       "      <td>13.519423</td>\n",
       "      <td>47800900</td>\n",
       "    </tr>\n",
       "    <tr>\n",
       "      <th>2010-01-05</th>\n",
       "      <td>20.940001</td>\n",
       "      <td>20.990000</td>\n",
       "      <td>20.600000</td>\n",
       "      <td>20.870001</td>\n",
       "      <td>13.512957</td>\n",
       "      <td>52357700</td>\n",
       "    </tr>\n",
       "    <tr>\n",
       "      <th>2010-01-06</th>\n",
       "      <td>20.809999</td>\n",
       "      <td>20.930000</td>\n",
       "      <td>20.670000</td>\n",
       "      <td>20.799999</td>\n",
       "      <td>13.467631</td>\n",
       "      <td>40037400</td>\n",
       "    </tr>\n",
       "    <tr>\n",
       "      <th>2010-01-07</th>\n",
       "      <td>20.730000</td>\n",
       "      <td>20.760000</td>\n",
       "      <td>20.340000</td>\n",
       "      <td>20.600000</td>\n",
       "      <td>13.338130</td>\n",
       "      <td>54041500</td>\n",
       "    </tr>\n",
       "    <tr>\n",
       "      <th>2010-01-08</th>\n",
       "      <td>20.540001</td>\n",
       "      <td>20.889999</td>\n",
       "      <td>20.400000</td>\n",
       "      <td>20.830000</td>\n",
       "      <td>13.487055</td>\n",
       "      <td>48234700</td>\n",
       "    </tr>\n",
       "    <tr>\n",
       "      <th>...</th>\n",
       "      <td>...</td>\n",
       "      <td>...</td>\n",
       "      <td>...</td>\n",
       "      <td>...</td>\n",
       "      <td>...</td>\n",
       "      <td>...</td>\n",
       "    </tr>\n",
       "    <tr>\n",
       "      <th>2024-09-12</th>\n",
       "      <td>19.430000</td>\n",
       "      <td>19.540001</td>\n",
       "      <td>19.040001</td>\n",
       "      <td>19.360001</td>\n",
       "      <td>19.360001</td>\n",
       "      <td>51602900</td>\n",
       "    </tr>\n",
       "    <tr>\n",
       "      <th>2024-09-13</th>\n",
       "      <td>19.490000</td>\n",
       "      <td>19.799999</td>\n",
       "      <td>19.490000</td>\n",
       "      <td>19.660000</td>\n",
       "      <td>19.660000</td>\n",
       "      <td>44236300</td>\n",
       "    </tr>\n",
       "    <tr>\n",
       "      <th>2024-09-16</th>\n",
       "      <td>20.030001</td>\n",
       "      <td>21.070000</td>\n",
       "      <td>19.760000</td>\n",
       "      <td>20.910000</td>\n",
       "      <td>20.910000</td>\n",
       "      <td>149337000</td>\n",
       "    </tr>\n",
       "    <tr>\n",
       "      <th>2024-09-17</th>\n",
       "      <td>21.709999</td>\n",
       "      <td>22.580000</td>\n",
       "      <td>21.240000</td>\n",
       "      <td>21.469999</td>\n",
       "      <td>21.469999</td>\n",
       "      <td>196249800</td>\n",
       "    </tr>\n",
       "    <tr>\n",
       "      <th>2024-09-18</th>\n",
       "      <td>21.360001</td>\n",
       "      <td>21.740000</td>\n",
       "      <td>20.719999</td>\n",
       "      <td>20.770000</td>\n",
       "      <td>20.770000</td>\n",
       "      <td>118727900</td>\n",
       "    </tr>\n",
       "  </tbody>\n",
       "</table>\n",
       "<p>3702 rows × 6 columns</p>\n",
       "</div>"
      ],
      "text/plain": [
       "                 Open       High        Low      Close  Adj Close     Volume\n",
       "Date                                                                        \n",
       "2010-01-04  20.790001  21.030001  20.730000  20.879999  13.519423   47800900\n",
       "2010-01-05  20.940001  20.990000  20.600000  20.870001  13.512957   52357700\n",
       "2010-01-06  20.809999  20.930000  20.670000  20.799999  13.467631   40037400\n",
       "2010-01-07  20.730000  20.760000  20.340000  20.600000  13.338130   54041500\n",
       "2010-01-08  20.540001  20.889999  20.400000  20.830000  13.487055   48234700\n",
       "...               ...        ...        ...        ...        ...        ...\n",
       "2024-09-12  19.430000  19.540001  19.040001  19.360001  19.360001   51602900\n",
       "2024-09-13  19.490000  19.799999  19.490000  19.660000  19.660000   44236300\n",
       "2024-09-16  20.030001  21.070000  19.760000  20.910000  20.910000  149337000\n",
       "2024-09-17  21.709999  22.580000  21.240000  21.469999  21.469999  196249800\n",
       "2024-09-18  21.360001  21.740000  20.719999  20.770000  20.770000  118727900\n",
       "\n",
       "[3702 rows x 6 columns]"
      ]
     },
     "execution_count": 32,
     "metadata": {},
     "output_type": "execute_result"
    }
   ],
   "source": [
    "# Define the ticker symbol and the date range\n",
    "ticker = \"INTC\"\n",
    "start_date = \"2010-01-01\"\n",
    "end_date = \"2024-09-19\"\n",
    "\n",
    "# Download the data\n",
    "data = yf.download(ticker, start=start_date, end=end_date)\n",
    "data"
   ]
  },
  {
   "cell_type": "code",
   "execution_count": 33,
   "metadata": {},
   "outputs": [
    {
     "data": {
      "text/plain": [
       "<Axes: >"
      ]
     },
     "execution_count": 33,
     "metadata": {},
     "output_type": "execute_result"
    },
    {
     "data": {
      "image/png": "[encoded data removed]",
      "text/plain": [
       "<Figure size 640x480 with 1 Axes>"
      ]
     },
     "metadata": {},
     "output_type": "display_data"
    }
   ],
   "source": [
    "data[\"Close\"].hist(bins=1000)"
   ]
  },
  {
   "cell_type": "code",
   "execution_count": 34,
   "metadata": {},
   "outputs": [],
   "source": [
    "from sklearn.preprocessing import StandardScaler\n",
    "import numpy as np\n",
    "import pandas as pd\n",
    "import matplotlib.pyplot as plt\n",
    "\n",
    "np.float_ = np.float64\n",
    "from prophet import Prophet"
   ]
  },
  {
   "cell_type": "code",
   "execution_count": 35,
   "metadata": {},
   "outputs": [
    {
     "data": {
      "text/html": [
       "<div>\n",
       "<style scoped>\n",
       "    .dataframe tbody tr th:only-of-type {\n",
       "        vertical-align: middle;\n",
       "    }\n",
       "\n",
       "    .dataframe tbody tr th {\n",
       "        vertical-align: top;\n",
       "    }\n",
       "\n",
       "    .dataframe thead th {\n",
       "        text-align: right;\n",
       "    }\n",
       "</style>\n",
       "<table border=\"1\" class=\"dataframe\">\n",
       "  <thead>\n",
       "    <tr style=\"text-align: right;\">\n",
       "      <th></th>\n",
       "      <th>ds</th>\n",
       "      <th>y</th>\n",
       "    </tr>\n",
       "  </thead>\n",
       "  <tbody>\n",
       "    <tr>\n",
       "      <th>0</th>\n",
       "      <td>2010-01-04</td>\n",
       "      <td>20.879999</td>\n",
       "    </tr>\n",
       "    <tr>\n",
       "      <th>1</th>\n",
       "      <td>2010-01-05</td>\n",
       "      <td>20.870001</td>\n",
       "    </tr>\n",
       "    <tr>\n",
       "      <th>2</th>\n",
       "      <td>2010-01-06</td>\n",
       "      <td>20.799999</td>\n",
       "    </tr>\n",
       "    <tr>\n",
       "      <th>3</th>\n",
       "      <td>2010-01-07</td>\n",
       "      <td>20.600000</td>\n",
       "    </tr>\n",
       "    <tr>\n",
       "      <th>4</th>\n",
       "      <td>2010-01-08</td>\n",
       "      <td>20.830000</td>\n",
       "    </tr>\n",
       "    <tr>\n",
       "      <th>...</th>\n",
       "      <td>...</td>\n",
       "      <td>...</td>\n",
       "    </tr>\n",
       "    <tr>\n",
       "      <th>3697</th>\n",
       "      <td>2024-09-12</td>\n",
       "      <td>19.360001</td>\n",
       "    </tr>\n",
       "    <tr>\n",
       "      <th>3698</th>\n",
       "      <td>2024-09-13</td>\n",
       "      <td>19.660000</td>\n",
       "    </tr>\n",
       "    <tr>\n",
       "      <th>3699</th>\n",
       "      <td>2024-09-16</td>\n",
       "      <td>20.910000</td>\n",
       "    </tr>\n",
       "    <tr>\n",
       "      <th>3700</th>\n",
       "      <td>2024-09-17</td>\n",
       "      <td>21.469999</td>\n",
       "    </tr>\n",
       "    <tr>\n",
       "      <th>3701</th>\n",
       "      <td>2024-09-18</td>\n",
       "      <td>20.770000</td>\n",
       "    </tr>\n",
       "  </tbody>\n",
       "</table>\n",
       "<p>3702 rows × 2 columns</p>\n",
       "</div>"
      ],
      "text/plain": [
       "             ds          y\n",
       "0    2010-01-04  20.879999\n",
       "1    2010-01-05  20.870001\n",
       "2    2010-01-06  20.799999\n",
       "3    2010-01-07  20.600000\n",
       "4    2010-01-08  20.830000\n",
       "...         ...        ...\n",
       "3697 2024-09-12  19.360001\n",
       "3698 2024-09-13  19.660000\n",
       "3699 2024-09-16  20.910000\n",
       "3700 2024-09-17  21.469999\n",
       "3701 2024-09-18  20.770000\n",
       "\n",
       "[3702 rows x 2 columns]"
      ]
     },
     "execution_count": 35,
     "metadata": {},
     "output_type": "execute_result"
    }
   ],
   "source": [
    "data = data[\"Close\"].reset_index().rename(columns={\"Date\": \"ds\", \"Close\": \"y\"})\n",
    "data"
   ]
  },
  {
   "cell_type": "code",
   "execution_count": 36,
   "metadata": {},
   "outputs": [
    {
     "data": {
      "text/plain": [
       "((2961, 2), (741, 2))"
      ]
     },
     "execution_count": 36,
     "metadata": {},
     "output_type": "execute_result"
    }
   ],
   "source": [
    "df_train, df_test = data[: int(len(data) * 0.8)], data[int(len(data) * 0.8) :]\n",
    "\n",
    "df_train.shape, df_test.shape"
   ]
  },
  {
   "cell_type": "code",
   "execution_count": 37,
   "metadata": {},
   "outputs": [
    {
     "name": "stderr",
     "output_type": "stream",
     "text": [
      "16:36:28 - cmdstanpy - INFO - Chain [1] start processing\n",
      "16:36:29 - cmdstanpy - INFO - Chain [1] done processing\n"
     ]
    },
    {
     "data": {
      "text/plain": [
       "<prophet.forecaster.Prophet at 0x7fcdf617d950>"
      ]
     },
     "execution_count": 37,
     "metadata": {},
     "output_type": "execute_result"
    }
   ],
   "source": [
    "model = Prophet()\n",
    "model.fit(df_train)"
   ]
  },
  {
   "cell_type": "code",
   "execution_count": 38,
   "metadata": {},
   "outputs": [],
   "source": [
    "periods = df_test.shape[0]\n",
    "future = model.make_future_dataframe(periods=periods)"
   ]
  },
  {
   "cell_type": "code",
   "execution_count": 39,
   "metadata": {},
   "outputs": [
    {
     "data": {
      "text/html": [
       "<div>\n",
       "<style scoped>\n",
       "    .dataframe tbody tr th:only-of-type {\n",
       "        vertical-align: middle;\n",
       "    }\n",
       "\n",
       "    .dataframe tbody tr th {\n",
       "        vertical-align: top;\n",
       "    }\n",
       "\n",
       "    .dataframe thead th {\n",
       "        text-align: right;\n",
       "    }\n",
       "</style>\n",
       "<table border=\"1\" class=\"dataframe\">\n",
       "  <thead>\n",
       "    <tr style=\"text-align: right;\">\n",
       "      <th></th>\n",
       "      <th>ds</th>\n",
       "      <th>yhat</th>\n",
       "    </tr>\n",
       "  </thead>\n",
       "  <tbody>\n",
       "    <tr>\n",
       "      <th>0</th>\n",
       "      <td>2021-10-07</td>\n",
       "      <td>56.506265</td>\n",
       "    </tr>\n",
       "    <tr>\n",
       "      <th>1</th>\n",
       "      <td>2021-10-08</td>\n",
       "      <td>56.488018</td>\n",
       "    </tr>\n",
       "    <tr>\n",
       "      <th>2</th>\n",
       "      <td>2021-10-09</td>\n",
       "      <td>56.927121</td>\n",
       "    </tr>\n",
       "    <tr>\n",
       "      <th>3</th>\n",
       "      <td>2021-10-10</td>\n",
       "      <td>56.955281</td>\n",
       "    </tr>\n",
       "    <tr>\n",
       "      <th>4</th>\n",
       "      <td>2021-10-11</td>\n",
       "      <td>56.566181</td>\n",
       "    </tr>\n",
       "    <tr>\n",
       "      <th>...</th>\n",
       "      <td>...</td>\n",
       "      <td>...</td>\n",
       "    </tr>\n",
       "    <tr>\n",
       "      <th>736</th>\n",
       "      <td>2023-10-13</td>\n",
       "      <td>61.640713</td>\n",
       "    </tr>\n",
       "    <tr>\n",
       "      <th>737</th>\n",
       "      <td>2023-10-14</td>\n",
       "      <td>62.086027</td>\n",
       "    </tr>\n",
       "    <tr>\n",
       "      <th>738</th>\n",
       "      <td>2023-10-15</td>\n",
       "      <td>62.120900</td>\n",
       "    </tr>\n",
       "    <tr>\n",
       "      <th>739</th>\n",
       "      <td>2023-10-16</td>\n",
       "      <td>61.738841</td>\n",
       "    </tr>\n",
       "    <tr>\n",
       "      <th>740</th>\n",
       "      <td>2023-10-17</td>\n",
       "      <td>61.851272</td>\n",
       "    </tr>\n",
       "  </tbody>\n",
       "</table>\n",
       "<p>741 rows × 2 columns</p>\n",
       "</div>"
      ],
      "text/plain": [
       "            ds       yhat\n",
       "0   2021-10-07  56.506265\n",
       "1   2021-10-08  56.488018\n",
       "2   2021-10-09  56.927121\n",
       "3   2021-10-10  56.955281\n",
       "4   2021-10-11  56.566181\n",
       "..         ...        ...\n",
       "736 2023-10-13  61.640713\n",
       "737 2023-10-14  62.086027\n",
       "738 2023-10-15  62.120900\n",
       "739 2023-10-16  61.738841\n",
       "740 2023-10-17  61.851272\n",
       "\n",
       "[741 rows x 2 columns]"
      ]
     },
     "execution_count": 39,
     "metadata": {},
     "output_type": "execute_result"
    }
   ],
   "source": [
    "forecast = model.predict(future)\n",
    "df_pred = forecast.tail(periods).reset_index()[[\"ds\", \"yhat\"]]\n",
    "df_pred"
   ]
  },
  {
   "cell_type": "code",
   "execution_count": 40,
   "metadata": {},
   "outputs": [
    {
     "name": "stdout",
     "output_type": "stream",
     "text": [
      "RMSE: 25.104117648979912\n",
      "MAPE: 0.7334826647498954\n"
     ]
    }
   ],
   "source": [
    "# Import RMSE and MAPE\n",
    "from sklearn.metrics import root_mean_squared_error, mean_absolute_percentage_error\n",
    "\n",
    "# Calculate RMSE and MAPE\n",
    "rmse = root_mean_squared_error(df_test[\"y\"], df_pred[\"yhat\"])\n",
    "mape = mean_absolute_percentage_error(df_test[\"y\"], df_pred[\"yhat\"])\n",
    "\n",
    "print(\"RMSE:\", rmse)\n",
    "print(\"MAPE:\", mape)"
   ]
  }
 ],
 "metadata": {
  "kernelspec": {
   "display_name": "Python 3 (ipykernel)",
   "language": "python",
   "name": "python3"
  },
  "language_info": {
   "codemirror_mode": {
    "name": "ipython",
    "version": 3
   },
   "file_extension": ".py",
   "mimetype": "text/x-python",
   "name": "python",
   "nbconvert_exporter": "python",
   "pygments_lexer": "ipython3",
   "version": "3.11.2"
  }
 },
 "nbformat": 4,
 "nbformat_minor": 4
}
